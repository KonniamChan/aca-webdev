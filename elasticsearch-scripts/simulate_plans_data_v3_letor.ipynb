{
 "cells": [
  {
   "cell_type": "markdown",
   "metadata": {},
   "source": [
    "# Simulate Plans Data"
   ]
  },
  {
   "cell_type": "code",
   "execution_count": 3,
   "metadata": {
    "collapsed": false
   },
   "outputs": [],
   "source": [
    "import numpy as np\n",
    "import json\n",
    "import requests\n",
    "import us\n",
    "from elasticsearch import Elasticsearch\n",
    "from faker import Factory"
   ]
  },
  {
   "cell_type": "code",
   "execution_count": 4,
   "metadata": {
    "collapsed": true
   },
   "outputs": [],
   "source": [
    "# Elasticsearch instance (hosted on AWS EC2)\n",
    "es = Elasticsearch()"
   ]
  },
  {
   "cell_type": "markdown",
   "metadata": {},
   "source": [
    "### Generate Simulated Data"
   ]
  },
  {
   "cell_type": "code",
   "execution_count": 16,
   "metadata": {
    "collapsed": true
   },
   "outputs": [],
   "source": [
    "# Simulate some data for testing"
   ]
  },
  {
   "cell_type": "code",
   "execution_count": 18,
   "metadata": {
    "collapsed": false
   },
   "outputs": [],
   "source": [
    "def simulate_data(output_path, N=10000):\n",
    "    '''\n",
    "    Simulate healthcare plans data in json format\n",
    "    '''\n",
    "    # Create fake names generator\n",
    "    fake = Factory.create()\n",
    "    fake.seed(1)\n",
    "    np.random.seed(1)\n",
    "    # Set parameters\n",
    "    n_providers_pool = 50\n",
    "    n_providers_per_plan = 10\n",
    "    n_weights = 5\n",
    "    # Initial data pool\n",
    "    levels = [\"Platinum\", \"Gold\", \"Silver\", \"Bronze\", \"Catastrophic\"]\n",
    "    states = us.states.mapping('abbr', 'name').keys()\n",
    "    providers_pool = [dict(name=fake.name(), address=fake.address()) for i in range(n_providers_pool)]\n",
    "    \n",
    "    # Output    \n",
    "    result = [dict(\n",
    "                plan_name = fake.company(),\n",
    "                level = np.random.choice(levels),\n",
    "                premium = np.random.normal(loc=100, scale=15),\n",
    "                weights = list(np.random.random(n_weights)),\n",
    "                url = fake.url(),\n",
    "                state = np.random.choice(states),\n",
    "                providers = list(np.random.choice(providers_pool, size=n_providers_per_plan, replace=False))\n",
    "              ) for i in range(N)]\n",
    "                        \n",
    "    json.dump(result, open(output_path, \"w\"), indent=2)"
   ]
  },
  {
   "cell_type": "code",
   "execution_count": 21,
   "metadata": {
    "collapsed": false,
    "scrolled": true
   },
   "outputs": [],
   "source": [
    "simulate_data(\"sim_plans_data_v3.json\", 10000)"
   ]
  },
  {
   "cell_type": "code",
   "execution_count": 22,
   "metadata": {
    "collapsed": false
   },
   "outputs": [
    {
     "name": "stdout",
     "output_type": "stream",
     "text": [
      "[\r\n",
      "  {\r\n",
      "    \"state\": \"OK\", \r\n",
      "    \"premium\": 87.96740742027036, \r\n",
      "    \"level\": \"Bronze\", \r\n",
      "    \"url\": \"http://www.adams.com/\", \r\n",
      "    \"weights\": [\r\n",
      "      0.092338594768797799, \r\n",
      "      0.1862602113776709, \r\n",
      "      0.34556072704304774, \r\n",
      "      0.39676747423066994, \r\n",
      "      0.53881673400335695\r\n",
      "    ], \r\n",
      "    \"providers\": [\r\n",
      "      {\r\n",
      "        \"name\": \"Cheryl Hancock\", \r\n",
      "        \"address\": \"18526 Klein Brook\\nLake Brandonchester, OH 29752-6353\"\r\n",
      "      }, \r\n",
      "      {\r\n",
      "        \"name\": \"Stephanie Esparza\", \r\n",
      "        \"address\": \"95365 Clark Inlet\\nEast Tabitha, MA 77772-9198\"\r\n",
      "      }, \r\n",
      "      {\r\n",
      "        \"name\": \"Lori Carlson\", \r\n",
      "        \"address\": \"73599 Sergio Terrace Apt. 359\\nPort Nicholas, DE 01603-1489\"\r\n",
      "      }, \r\n",
      "      {\r\n",
      "        \"name\": \"Steve Davis\", \r\n",
      "        \"address\": \"USNV Owens\\nFPO AA 60596\"\r\n",
      "      }, \r\n",
      "      {\r\n",
      "        \"name\": \"Kristin Jenkins\", \r\n",
      "        \"address\": \"USNS Brock\\nFPO AE 67686\"\r\n",
      "      }, \r\n",
      "      {\r\n",
      "        \"name\": \"Kimberly Quinn\", \r\n",
      "        \"address\": \"12852 Cruz Mission\\nMarcusview, PR 74970\"\r\n",
      "      }, \r\n",
      "      {\r\n",
      "        \"name\": \"Daniel Burnett\", \r\n",
      "        \"address\": \"57634 Bowers Mount\\nSouth Thomas, AS 95315-9758\"\r\n",
      "      }, \r\n",
      "      {\r\n",
      "        \"name\": \"Jeffery Russell\", \r\n",
      "        \"address\": \"5587 Thomas Groves\\nTammyside, DE 28838-1834\"\r\n",
      "      }, \r\n",
      "      {\r\n",
      "        \"name\": \"Darryl Brown\", \r\n",
      "        \"address\": \"45973 Ho Mill\\nEast Shane, ME 83158\"\r\n",
      "      }, \r\n",
      "      {\r\n",
      "        \"name\": \"Jose Pugh\", \r\n",
      "        \"address\": \"4951 Bobby Park Suite 147\\nNorth Daltonburgh, CO 65008\"\r\n",
      "      }\r\n",
      "    ], \r\n",
      "    \"plan_name\": \"Macdonald, Snyder and Hernandez\"\r\n",
      "  }, \r\n",
      "  {\r\n",
      "    \"state\": \"VI\", \r\n",
      "    \"premium\": 93.26683288418842, \r\n",
      "    \"level\": \"Silver\", \r\n",
      "    \"url\": \"http://www.keller.net/\", \r\n",
      "    \"weights\": [\r\n",
      "      0.073364171742599571, \r\n",
      "      0.46923852643814312, \r\n",
      "      0.096172260445461677, \r\n",
      "      0.90337016647886736, \r\n",
      "      0.11949046798071683\r\n",
      "    ], \r\n",
      "    \"providers\": [\r\n",
      "      {\r\n",
      "        \"name\": \"Cheryl Hancock\", \r\n",
      "        \"address\": \"18526 Klein Brook\\nLake Brandonchester, OH 29752-6353\"\r\n",
      "      }, \r\n",
      "      {\r\n",
      "        \"name\": \"Natasha Hill\", \r\n",
      "        \"address\": \"7951 Wiley Ways\\nKaylachester, NE 82135-0350\"\r\n",
      "      }, \r\n",
      "      {\r\n",
      "        \"name\": \"Ricky Newman\", \r\n",
      "        \"address\": \"28594 Gabriel Stream\\nNew Antonioland, VT 29411\"\r\n",
      "      }, \r\n",
      "      {\r\n",
      "        \"name\": \"Rachel Green\", \r\n",
      "        \"address\": \"208 Edwards Mission\\nChristinafurt, OR 26251-7832\"\r\n",
      "      }, \r\n",
      "      {\r\n",
      "        \"name\": \"Robert Deleon\", \r\n",
      "        \"address\": \"508 Nicole Greens Suite 013\\nLutzshire, NV 55589-4633\"\r\n",
      "      }, \r\n",
      "      {\r\n",
      "        \"name\": \"Jordan Peters\", \r\n",
      "        \"address\": \"22570 Whitney Inlet Suite 170\\nFloresstad, ID 91786-7499\"\r\n",
      "      }, \r\n",
      "      {\r\n",
      "        \"name\": \"Darryl Brown\", \r\n",
      "        \"address\": \"45973 Ho Mill\\nEast Shane, ME 83158\"\r\n",
      "      }, \r\n",
      "      {\r\n",
      "        \"name\": \"Kimberly Quinn\", \r\n"
     ]
    }
   ],
   "source": [
    "!head -n100 sim_plans_data_v3.json"
   ]
  },
  {
   "cell_type": "markdown",
   "metadata": {},
   "source": [
    "### Define ES Mapping"
   ]
  },
  {
   "cell_type": "code",
   "execution_count": 17,
   "metadata": {
    "collapsed": true
   },
   "outputs": [],
   "source": [
    "# Create Elasticsearch mapping"
   ]
  },
  {
   "cell_type": "markdown",
   "metadata": {},
   "source": [
    "Index: Data  \n",
    "Type: Plans  \n",
    "Fields:  \n",
    "- plan_name (string, raw)\n",
    "- premium (nested, number)\n",
    "- level (string, raw)\n",
    "- url (string, raw)\n",
    "- weights (number)\n",
    "- state (string, non-analyzed)\n",
    "- providers (nested)\n",
    "    - name: string, raw\n",
    "    - address: string, non-analyzed"
   ]
  },
  {
   "cell_type": "code",
   "execution_count": 23,
   "metadata": {
    "collapsed": false
   },
   "outputs": [
    {
     "name": "stdout",
     "output_type": "stream",
     "text": [
      "{\"acknowledged\":true}"
     ]
    }
   ],
   "source": [
    "!curl -XDELETE 'localhost:9200/data'"
   ]
  },
  {
   "cell_type": "code",
   "execution_count": 24,
   "metadata": {
    "collapsed": false
   },
   "outputs": [],
   "source": [
    "def define_plan_mappings(es):\n",
    "    # Mapping\n",
    "    settings = {\n",
    "        \"settings\": {\n",
    "            \"index\": {\n",
    "                \"number_of_shards\" : 5,\n",
    "                \"number_of_replicas\" : 1                \n",
    "            }\n",
    "        },\n",
    "        \n",
    "        \"mappings\": {\n",
    "            \"plan\": {\n",
    "                \"properties\": {\n",
    "                    \"plan_name\": {\n",
    "                        \"type\": \"string\",\n",
    "                        \"index\": \"analyzed\",\n",
    "                        \"fields\": {\n",
    "                            \"raw\": {\n",
    "                                \"type\": \"string\",\n",
    "                                \"index\": \"not_analyzed\"\n",
    "                            }\n",
    "                        }                    \n",
    "                    },\n",
    "\n",
    "                    \"premium\": {\n",
    "                        \"type\": \"float\",                                                    \n",
    "                    },\n",
    "\n",
    "                    \"level\": {\n",
    "                        \"type\": \"string\",\n",
    "                        \"index\": \"analyzed\",\n",
    "                        \"fields\": {\n",
    "                            \"raw\": {\n",
    "                                \"type\": \"string\",\n",
    "                                \"index\": \"not_analyzed\"\n",
    "                            }\n",
    "                        }                    \n",
    "                    },\n",
    "\n",
    "                    \"url\": {\n",
    "                        \"type\": \"string\",\n",
    "                        \"index\": \"not_analyzed\"\n",
    "                    },\n",
    "                    \n",
    "                    \"weights\": {\n",
    "                        \"type\": \"float\",\n",
    "                    },\n",
    "                    \n",
    "                    \"state\": {\n",
    "                        \"type\": \"string\",\n",
    "                        \"index\": \"not_analyzed\"\n",
    "                    },\n",
    "\n",
    "                    \"providers\": {\n",
    "                        \"type\": \"nested\",\n",
    "                        \"properties\": {\n",
    "                            \"name\": {\n",
    "                                \"type\": \"string\",\n",
    "                                \"index\": \"analyzed\",\n",
    "                                \"fields\": {\n",
    "                                    \"raw\": {\n",
    "                                        \"type\": \"string\",\n",
    "                                        \"index\": \"not_analyzed\"\n",
    "                                    }\n",
    "                                }                                \n",
    "                            },\n",
    "                            \"address\": {\n",
    "                                \"type\": \"string\",\n",
    "                                \"index\": \"not_analyzed\",                                                       \n",
    "                            }\n",
    "                        }                                                                                            \n",
    "                    }\n",
    "                }                                 \n",
    "            }    \n",
    "        }        \n",
    "    }\n",
    "    \n",
    "    # Define mappings in ES\n",
    "    es.indices.create(index=\"data\", body=settings)"
   ]
  },
  {
   "cell_type": "code",
   "execution_count": 25,
   "metadata": {
    "collapsed": false
   },
   "outputs": [],
   "source": [
    "define_plan_mappings(es)"
   ]
  },
  {
   "cell_type": "code",
   "execution_count": 26,
   "metadata": {
    "collapsed": false
   },
   "outputs": [
    {
     "name": "stdout",
     "output_type": "stream",
     "text": [
      "{\r\n",
      "  \"data\" : {\r\n",
      "    \"mappings\" : {\r\n",
      "      \"plan\" : {\r\n",
      "        \"properties\" : {\r\n",
      "          \"level\" : {\r\n",
      "            \"type\" : \"string\",\r\n",
      "            \"fields\" : {\r\n",
      "              \"raw\" : {\r\n",
      "                \"type\" : \"string\",\r\n",
      "                \"index\" : \"not_analyzed\"\r\n",
      "              }\r\n",
      "            }\r\n",
      "          },\r\n",
      "          \"plan_name\" : {\r\n",
      "            \"type\" : \"string\",\r\n",
      "            \"fields\" : {\r\n",
      "              \"raw\" : {\r\n",
      "                \"type\" : \"string\",\r\n",
      "                \"index\" : \"not_analyzed\"\r\n",
      "              }\r\n",
      "            }\r\n",
      "          },\r\n",
      "          \"premium\" : {\r\n",
      "            \"type\" : \"float\"\r\n",
      "          },\r\n",
      "          \"providers\" : {\r\n",
      "            \"type\" : \"nested\",\r\n",
      "            \"properties\" : {\r\n",
      "              \"address\" : {\r\n",
      "                \"type\" : \"string\",\r\n",
      "                \"index\" : \"not_analyzed\"\r\n",
      "              },\r\n",
      "              \"name\" : {\r\n",
      "                \"type\" : \"string\",\r\n",
      "                \"fields\" : {\r\n",
      "                  \"raw\" : {\r\n",
      "                    \"type\" : \"string\",\r\n",
      "                    \"index\" : \"not_analyzed\"\r\n",
      "                  }\r\n",
      "                }\r\n",
      "              }\r\n",
      "            }\r\n",
      "          },\r\n",
      "          \"state\" : {\r\n",
      "            \"type\" : \"string\",\r\n",
      "            \"index\" : \"not_analyzed\"\r\n",
      "          },\r\n",
      "          \"url\" : {\r\n",
      "            \"type\" : \"string\",\r\n",
      "            \"index\" : \"not_analyzed\"\r\n",
      "          },\r\n",
      "          \"weights\" : {\r\n",
      "            \"type\" : \"float\"\r\n",
      "          }\r\n",
      "        }\r\n",
      "      }\r\n",
      "    }\r\n",
      "  }\r\n",
      "}\r\n"
     ]
    }
   ],
   "source": [
    "!curl 'localhost:9200/data/_mapping/plan?pretty'"
   ]
  },
  {
   "cell_type": "markdown",
   "metadata": {},
   "source": [
    "### Load Data"
   ]
  },
  {
   "cell_type": "code",
   "execution_count": 27,
   "metadata": {
    "collapsed": false
   },
   "outputs": [],
   "source": [
    "def load_data(input_path, es):\n",
    "    # Get data from file    \n",
    "    data = json.load(open(input_path))\n",
    "    # Add each plan\n",
    "    for i, plan in enumerate(data):\n",
    "        es.index(index='data', doc_type='plan', id=i, body=plan)"
   ]
  },
  {
   "cell_type": "code",
   "execution_count": 28,
   "metadata": {
    "collapsed": false
   },
   "outputs": [],
   "source": [
    "load_data(\"sim_plans_data_v3.json\", es)"
   ]
  },
  {
   "cell_type": "code",
   "execution_count": 58,
   "metadata": {
    "collapsed": true
   },
   "outputs": [],
   "source": [
    "# Check data"
   ]
  },
  {
   "cell_type": "code",
   "execution_count": 29,
   "metadata": {
    "collapsed": false
   },
   "outputs": [
    {
     "name": "stdout",
     "output_type": "stream",
     "text": [
      "health status index                  pri rep docs.count docs.deleted store.size pri.store.size \r\n",
      "yellow open   data                     5   1     110000            0     12.7mb         12.7mb \r\n",
      "yellow open   get-together             2   1         20            0     28.4kb         28.4kb \r\n",
      "yellow open   myindex                  5   1          0            0       800b           800b \r\n",
      "yellow open   november_2014_invoices   5   1          0            0       800b           800b \r\n",
      "yellow open   december_2014_invoices   5   1          0            0       800b           800b \r\n",
      "yellow open   blog                     5   1          1            0      3.6kb          3.6kb \r\n",
      "yellow open   logs                     5   1          1            0      3.7kb          3.7kb \r\n"
     ]
    }
   ],
   "source": [
    "!curl 'localhost:9200/_cat/indices?v'"
   ]
  },
  {
   "cell_type": "code",
   "execution_count": 30,
   "metadata": {
    "collapsed": false
   },
   "outputs": [
    {
     "name": "stdout",
     "output_type": "stream",
     "text": [
      "{\r\n",
      "  \"_index\" : \"data\",\r\n",
      "  \"_type\" : \"plan\",\r\n",
      "  \"_id\" : \"0\",\r\n",
      "  \"_version\" : 1,\r\n",
      "  \"found\" : true,\r\n",
      "  \"_source\" : {\r\n",
      "    \"premium\" : 87.96740742027036,\r\n",
      "    \"providers\" : [ {\r\n",
      "      \"name\" : \"Cheryl Hancock\",\r\n",
      "      \"address\" : \"18526 Klein Brook\\nLake Brandonchester, OH 29752-6353\"\r\n",
      "    }, {\r\n",
      "      \"name\" : \"Stephanie Esparza\",\r\n",
      "      \"address\" : \"95365 Clark Inlet\\nEast Tabitha, MA 77772-9198\"\r\n",
      "    }, {\r\n",
      "      \"name\" : \"Lori Carlson\",\r\n",
      "      \"address\" : \"73599 Sergio Terrace Apt. 359\\nPort Nicholas, DE 01603-1489\"\r\n",
      "    }, {\r\n",
      "      \"name\" : \"Steve Davis\",\r\n",
      "      \"address\" : \"USNV Owens\\nFPO AA 60596\"\r\n",
      "    }, {\r\n",
      "      \"name\" : \"Kristin Jenkins\",\r\n",
      "      \"address\" : \"USNS Brock\\nFPO AE 67686\"\r\n",
      "    }, {\r\n",
      "      \"name\" : \"Kimberly Quinn\",\r\n",
      "      \"address\" : \"12852 Cruz Mission\\nMarcusview, PR 74970\"\r\n",
      "    }, {\r\n",
      "      \"name\" : \"Daniel Burnett\",\r\n",
      "      \"address\" : \"57634 Bowers Mount\\nSouth Thomas, AS 95315-9758\"\r\n",
      "    }, {\r\n",
      "      \"name\" : \"Jeffery Russell\",\r\n",
      "      \"address\" : \"5587 Thomas Groves\\nTammyside, DE 28838-1834\"\r\n",
      "    }, {\r\n",
      "      \"name\" : \"Darryl Brown\",\r\n",
      "      \"address\" : \"45973 Ho Mill\\nEast Shane, ME 83158\"\r\n",
      "    }, {\r\n",
      "      \"name\" : \"Jose Pugh\",\r\n",
      "      \"address\" : \"4951 Bobby Park Suite 147\\nNorth Daltonburgh, CO 65008\"\r\n",
      "    } ],\r\n",
      "    \"url\" : \"http://www.adams.com/\",\r\n",
      "    \"level\" : \"Bronze\",\r\n",
      "    \"state\" : \"OK\",\r\n",
      "    \"weights\" : [ 0.0923385947687978, 0.1862602113776709, 0.34556072704304774, 0.39676747423066994, 0.538816734003357 ],\r\n",
      "    \"plan_name\" : \"Macdonald, Snyder and Hernandez\"\r\n",
      "  }\r\n",
      "}\r\n"
     ]
    }
   ],
   "source": [
    "!curl 'localhost:9200/data/plan/0?pretty'"
   ]
  }
 ],
 "metadata": {
  "anaconda-cloud": {},
  "kernelspec": {
   "display_name": "Python [Root]",
   "language": "python",
   "name": "Python [Root]"
  },
  "language_info": {
   "codemirror_mode": {
    "name": "ipython",
    "version": 2
   },
   "file_extension": ".py",
   "mimetype": "text/x-python",
   "name": "python",
   "nbconvert_exporter": "python",
   "pygments_lexer": "ipython2",
   "version": "2.7.12"
  }
 },
 "nbformat": 4,
 "nbformat_minor": 0
}
